{
 "cells": [
  {
   "cell_type": "code",
   "execution_count": null,
   "id": "ff050363",
   "metadata": {},
   "outputs": [],
   "source": [
    "import cv2\n",
    "\n",
    "# Initialize face detection model\n",
    "face_detector = cv2.CascadeClassifier(cv2.data.haarcascades + 'haarcascade_frontalface_default.xml')\n",
    "\n",
    "# Open webcam (0 is default camera)\n",
    "camera = cv2.VideoCapture(0)\n",
    "\n",
    "# Continuously process video frames\n",
    "while True:\n",
    "    # Capture a single frame\n",
    "    status, frame = camera.read()\n",
    "    if not status:\n",
    "        print(\"Webcam not accessible.\")\n",
    "        break\n",
    "\n",
    "    # Convert frame to grayscale for detection\n",
    "    gray_image = cv2.cvtColor(frame, cv2.COLOR_BGR2GRAY)\n",
    "\n",
    "    # Detect faces in the grayscale image\n",
    "    detected_faces = face_detector.detectMultiScale(gray_image, scaleFactor=1.1, minNeighbors=5, minSize=(30, 30))\n",
    "\n",
    "    # Process each detected face\n",
    "    for (x, y, w, h) in detected_faces:\n",
    "        # Crop the face region\n",
    "        face_section = frame[y:y+h, x:x+w]\n",
    "\n",
    "        # Apply a blur effect to the face\n",
    "        blurred = cv2.GaussianBlur(face_section, (99, 99), 30)\n",
    "\n",
    "        # Replace the original face with the blurred one\n",
    "        frame[y:y+h, x:x+w] = blurred\n",
    "\n",
    "    # Display the result\n",
    "    cv2.imshow(\"Live_Stream\", frame)\n",
    "\n",
    "    # Exit when 'q' key is pressed\n",
    "    if cv2.waitKey(1) == ord('q'):\n",
    "        break\n",
    "\n",
    "# Release the camera and close all windows\n",
    "camera.release()\n",
    "cv2.destroyAllWindows()\n"
   ]
  }
 ],
 "metadata": {
  "kernelspec": {
   "display_name": "Python 3",
   "language": "python",
   "name": "python3"
  },
  "language_info": {
   "codemirror_mode": {
    "name": "ipython",
    "version": 3
   },
   "file_extension": ".py",
   "mimetype": "text/x-python",
   "name": "python",
   "nbconvert_exporter": "python",
   "pygments_lexer": "ipython3",
   "version": "3.8.8"
  }
 },
 "nbformat": 4,
 "nbformat_minor": 5
}
